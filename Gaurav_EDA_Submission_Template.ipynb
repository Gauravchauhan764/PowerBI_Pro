{
  "nbformat": 4,
  "nbformat_minor": 0,
  "metadata": {
    "colab": {
      "private_outputs": true,
      "provenance": [],
      "collapsed_sections": [
        "gIfDvo9L0UH2"
      ]
    },
    "kernelspec": {
      "name": "python3",
      "display_name": "Python 3"
    },
    "language_info": {
      "name": "python"
    }
  },
  "cells": [
    {
      "cell_type": "markdown",
      "source": [
        "# **Project Name**    -\n",
        "\n"
      ],
      "metadata": {
        "id": "vncDsAP0Gaoa"
      }
    },
    {
      "cell_type": "markdown",
      "source": [
        "##### **Project Type**    - EDA\n",
        "##### **Contribution**    - Individual\n",
        "\n",
        "##### **Name**   - Gaurav Kumar\n",
        "\n"
      ],
      "metadata": {
        "id": "beRrZCGUAJYm"
      }
    },
    {
      "cell_type": "markdown",
      "source": [
        "# **Project Summary -**"
      ],
      "metadata": {
        "id": "FJNUwmbgGyua"
      }
    },
    {
      "cell_type": "markdown",
      "source": [
        "This Play Store app analysis project offers invaluable insights into the intricate workings of the mobile app ecosystem. These findings serve as a compass for developers, marketers, and publishers, empowering them to make informed decisions that amplify app performance, user engagement, and overall success.\n",
        "\n",
        "The dataset predominantly comprises free apps, advocating a strategy for developers to concentrate on creating free apps to establish a vast user base. For paid apps, a size constraint of 40MB proves pivotal for enhancing accessibility. Additionally, categories like Events, Beauty, and Parenting, though popular, remain underexplored, presenting a ripe opportunity for developers to capitalize on high installation rates.\n",
        "\n",
        "Continuous app updates serve as a linchpin for customer retention. A universal content approach fosters inclusivity, while the development of bulkier apps finds a niche in categories like Games and Family. For paid apps, maintaining a modest price tag below a size limit of 20MB emerges as a winning formula.\n",
        "\n",
        "The scrutiny of Game and Family categories uncovers a propensity for higher negative reviews, warranting meticulous development strategies in these domains. These are just a fraction of the comprehensive conclusions derived, offering crucial avenues for developers to explore before embarking on app development.\n",
        "\n",
        "Conducting a preliminary exploratory data analysis (EDA) proved instrumental in mitigating avoidable risks and ideating superior app-building strategies. Prior to analysis, the dataset underwent rigorous cleansing and preprocessing to ensure data integrity, including addressing missing values, eliminating duplicates, and handling outliers.\n",
        "\n",
        "The primary objectives encompassed identifying factors influencing app ratings and downloads, exploring correlations between app categories and user reviews, and elucidating insights into effective pricing strategies for top-rated apps. Leveraging my background knowledge in the mobile app industry, I shaped research questions that encapsulated the significance of user ratings, reviews, and app categories in app success.\n",
        "\n",
        "Ethical considerations guided the responsible handling of user-generated data, ensuring privacy and sensitivity. Employing Python for data analysis, coupled with libraries like pandas, matplotlib, seaborn, and scikit-learn for machine learning tasks, enabled a comprehensive exploration of the dataset.\n",
        "\n",
        "This project sheds light on the pathways to app success within the Google Play Store, emphasizing the potency of data-driven analysis in the vibrant arena of mobile applications. It underscores the pivotal role of informed decision-making based on nuanced insights extracted from data analysis."
      ],
      "metadata": {
        "id": "z_gFxdiCgzSD"
      }
    },
    {
      "cell_type": "markdown",
      "source": [
        "# **GitHub Link -**"
      ],
      "metadata": {
        "id": "w6K7xa23Elo4"
      }
    },
    {
      "cell_type": "markdown",
      "source": [
        "Provide your GitHub Link here."
      ],
      "metadata": {
        "id": "h1o69JH3Eqqn"
      }
    },
    {
      "cell_type": "markdown",
      "source": [
        "# **Problem Statement**\n"
      ],
      "metadata": {
        "id": "yQaldy8SH6Dl"
      }
    },
    {
      "cell_type": "markdown",
      "source": [
        "**Write Problem Statement Here.**"
      ],
      "metadata": {
        "id": "DpeJGUA3kjGy"
      }
    },
    {
      "cell_type": "markdown",
      "source": [
        "To identify the critical elements influencing app engagement on the Play Store. It allows for a focused and structured analysis of the data to extract actionable insights.\n"
      ],
      "metadata": {
        "id": "_CEwVUxsjJ6d"
      }
    },
    {
      "cell_type": "markdown",
      "source": [
        "#### **Define Your Business Objective?**"
      ],
      "metadata": {
        "id": "PH-0ReGfmX4f"
      }
    },
    {
      "cell_type": "markdown",
      "source": [
        "**Unlocking App-Making Potential:** Leveraging the vast repository of Play Store app data to empower app-making businesses towards success by deriving actionable insights. These insights will guide developers in capturing the Android market effectively.\n",
        "\n",
        "**Identifying App Success Factors:** Through comprehensive analysis of app attributes such as category, ratings, size, and utilizing customer reviews, the goal is to unveil the pivotal elements driving app engagement and overall success within the Android ecosystem.\n",
        "\n",
        "**Strategic Insights for Developers:** By delving into the intricacies of the data, the objective is to unearth strategic insights that developers can utilize to refine their approaches, enhance app performance, and navigate the competitive Android landscape more effectively."
      ],
      "metadata": {
        "id": "PhDvGCAqmjP1"
      }
    },
    {
      "cell_type": "markdown",
      "source": [
        "# **General Guidelines** : -  "
      ],
      "metadata": {
        "id": "mDgbUHAGgjLW"
      }
    },
    {
      "cell_type": "markdown",
      "source": [
        "1.   Well-structured, formatted, and commented code is required.\n",
        "2.   Exception Handling, Production Grade Code & Deployment Ready Code will be a plus. Those students will be awarded some additional credits.\n",
        "     \n",
        "     The additional credits will have advantages over other students during Star Student selection.\n",
        "       \n",
        "             [ Note: - Deployment Ready Code is defined as, the whole .ipynb notebook should be executable in one go\n",
        "                       without a single error logged. ]\n",
        "\n",
        "3.   Each and every logic should have proper comments.\n",
        "4. You may add as many number of charts you want. Make Sure for each and every chart the following format should be answered.\n",
        "        \n",
        "\n",
        "```\n",
        "# Chart visualization code\n",
        "```\n",
        "            \n",
        "\n",
        "*   Why did you pick the specific chart?\n",
        "*   What is/are the insight(s) found from the chart?\n",
        "* Will the gained insights help creating a positive business impact?\n",
        "Are there any insights that lead to negative growth? Justify with specific reason.\n",
        "\n",
        "5. You have to create at least 20 logical & meaningful charts having important insights.\n",
        "\n",
        "\n",
        "[ Hints : - Do the Vizualization in  a structured way while following \"UBM\" Rule.\n",
        "\n",
        "U - Univariate Analysis,\n",
        "\n",
        "B - Bivariate Analysis (Numerical - Categorical, Numerical - Numerical, Categorical - Categorical)\n",
        "\n",
        "M - Multivariate Analysis\n",
        " ]\n",
        "\n",
        "\n",
        "\n"
      ],
      "metadata": {
        "id": "ZrxVaUj-hHfC"
      }
    },
    {
      "cell_type": "markdown",
      "source": [
        "# ***Let's Begin !***"
      ],
      "metadata": {
        "id": "O_i_v8NEhb9l"
      }
    },
    {
      "cell_type": "markdown",
      "source": [
        "## ***1. Know Your Data***"
      ],
      "metadata": {
        "id": "HhfV-JJviCcP"
      }
    },
    {
      "cell_type": "markdown",
      "source": [
        "**App:** Indicates the name of the application within the dataset.\n",
        "\n",
        "**Category:** Specifies the classification or genre to which an application belongs.\n",
        "\n",
        "**Rating:** Represents the user-assigned score for a particular application, indicating its overall quality or satisfaction level.\n",
        "\n",
        "**Reviews:** Reflects the total count of user reviews given for the application.\n",
        "\n",
        "**Size:** Indicates the storage space occupied by the application on a mobile device.\n",
        "\n",
        "**Installs:** Specifies the total number of times an application has been downloaded or installed.\n",
        "\n",
        "**Type:** Differentiates between free and paid applications within the dataset.\n",
        "\n",
        "**Price:** Specifies the cost or pricing structure of the application where applicable.\n",
        "\n",
        "**Content_Rating:** Indicates the target audience or age group for which the application is suitable.\n",
        "\n",
        "**Genres:** Highlights additional categories or genres to which an application may belong, providing further classification.\n",
        "\n",
        "**Last_Updated:** Specifies the date when the application was last updated.\n",
        "\n",
        "**Current_Ver:** Provides information about the current version of the application.\n",
        "\n",
        "**Android_Ver:** Specifies the minimum Android version required to support the application on its platform."
      ],
      "metadata": {
        "id": "a4-fAZWYo8nD"
      }
    },
    {
      "cell_type": "markdown",
      "source": [
        "### Import Libraries"
      ],
      "metadata": {
        "id": "Y3lxredqlCYt"
      }
    },
    {
      "cell_type": "code",
      "source": [
        "# Import Libraries\n",
        "\n",
        "import numpy as np\n",
        "import pandas as pd\n",
        "import seaborn as sns\n",
        "import matplotlib.pyplot as plt\n",
        "%matplotlib inline"
      ],
      "metadata": {
        "id": "M8Vqi-pPk-HR"
      },
      "execution_count": null,
      "outputs": []
    },
    {
      "cell_type": "markdown",
      "source": [
        "### Dataset Loading"
      ],
      "metadata": {
        "id": "3RnN4peoiCZX"
      }
    },
    {
      "cell_type": "code",
      "source": [
        "# Load Dataset\n",
        "\n",
        "from google.colab import drive\n",
        "drive.mount('/content/drive')\n",
        "\n",
        "\n",
        "filepath = \"/content/drive/MyDrive/Alma Better Projects /Play Store Data.csv\"\n",
        "store_df= pd.read_csv(filepath)\n",
        "\n",
        "filepath = \"/content/drive/MyDrive/Alma Better Projects /User Reviews.csv\"\n",
        "reviews_df= pd.read_csv(filepath)"
      ],
      "metadata": {
        "id": "4CkvbW_SlZ_R"
      },
      "execution_count": null,
      "outputs": []
    },
    {
      "cell_type": "code",
      "source": [
        "from google.colab import drive\n",
        "drive.mount('/content/drive')"
      ],
      "metadata": {
        "id": "E4R4QDmzy6FJ"
      },
      "execution_count": null,
      "outputs": []
    },
    {
      "cell_type": "markdown",
      "source": [
        "### Dataset First View"
      ],
      "metadata": {
        "id": "x71ZqKXriCWQ"
      }
    },
    {
      "cell_type": "code",
      "source": [
        "# Dataset First Look\n",
        "\n",
        "df_1 =  store_df.copy()   #df_1 (Play Store Data)\n",
        "df_2 =  reviews_df.copy()   #df_2 (User Reviews)\n",
        "\n",
        "df_1"
      ],
      "metadata": {
        "id": "LWNFOSvLl09H"
      },
      "execution_count": null,
      "outputs": []
    },
    {
      "cell_type": "code",
      "source": [
        "df_2"
      ],
      "metadata": {
        "id": "LRnXIKw_7uB_"
      },
      "execution_count": null,
      "outputs": []
    },
    {
      "cell_type": "markdown",
      "source": [
        "### Dataset Rows & Columns count"
      ],
      "metadata": {
        "id": "7hBIi_osiCS2"
      }
    },
    {
      "cell_type": "code",
      "source": [
        "# Dataset Rows & Columns count\n",
        "\n",
        "\n",
        "rows_df_1, columns_df_1 = df_1.shape\n",
        "print(f\"Rows in df_1: {rows_df_1}\")\n",
        "print(f\"Columns in df_1: {columns_df_1}\")\n",
        "\n",
        "\n",
        "rows_df_2, columns_df_2 = df_2.shape\n",
        "print(f\"Rows in df_2: {rows_df_2}\")\n",
        "print(f\"Columns in df_2: {columns_df_2}\")\n",
        "\n"
      ],
      "metadata": {
        "id": "Kllu7SJgmLij"
      },
      "execution_count": null,
      "outputs": []
    },
    {
      "cell_type": "markdown",
      "source": [
        "### Dataset Information"
      ],
      "metadata": {
        "id": "JlHwYmJAmNHm"
      }
    },
    {
      "cell_type": "code",
      "source": [
        "# Dataset Info\n",
        "\n",
        "df_1.info()"
      ],
      "metadata": {
        "id": "e9hRXRi6meOf"
      },
      "execution_count": null,
      "outputs": []
    },
    {
      "cell_type": "code",
      "source": [
        "df_2.info()"
      ],
      "metadata": {
        "id": "P8HhBeeg8gna"
      },
      "execution_count": null,
      "outputs": []
    },
    {
      "cell_type": "code",
      "source": [
        "df_1.head()"
      ],
      "metadata": {
        "id": "jD8NlTj5-MGv"
      },
      "execution_count": null,
      "outputs": []
    },
    {
      "cell_type": "code",
      "source": [
        "df_1.tail()"
      ],
      "metadata": {
        "id": "Gc08okI8-NjD"
      },
      "execution_count": null,
      "outputs": []
    },
    {
      "cell_type": "markdown",
      "source": [
        "#### Duplicate Values"
      ],
      "metadata": {
        "id": "35m5QtbWiB9F"
      }
    },
    {
      "cell_type": "code",
      "source": [
        "# Dataset Duplicate Value Count\n",
        "\n",
        "df_1.duplicated().sum()\n"
      ],
      "metadata": {
        "id": "1sLdpKYkmox0"
      },
      "execution_count": null,
      "outputs": []
    },
    {
      "cell_type": "code",
      "source": [
        "df_2.duplicated().sum()"
      ],
      "metadata": {
        "id": "WyxogZvp9jBO"
      },
      "execution_count": null,
      "outputs": []
    },
    {
      "cell_type": "markdown",
      "source": [
        "#### Missing Values/Null Values"
      ],
      "metadata": {
        "id": "PoPl-ycgm1ru"
      }
    },
    {
      "cell_type": "code",
      "source": [
        "# Missing Values/Null Values Count\n",
        "\n",
        "df_1.isnull().sum().sort_values(ascending=False)    # Null Values in decending orders"
      ],
      "metadata": {
        "id": "GgHWkxvamxVg"
      },
      "execution_count": null,
      "outputs": []
    },
    {
      "cell_type": "code",
      "source": [
        "df_2.isnull().sum().sort_values(ascending=False)    # Null Values in decending orders"
      ],
      "metadata": {
        "id": "4oiErdkq_PPd"
      },
      "execution_count": null,
      "outputs": []
    },
    {
      "cell_type": "code",
      "source": [
        "# Visualizing the missing values"
      ],
      "metadata": {
        "id": "-PTn9UJgD7w8"
      },
      "execution_count": null,
      "outputs": []
    },
    {
      "cell_type": "code",
      "source": [
        "# Removing Null Value Row.\n",
        "df_1.dropna(subset=[\"Type\",\"Content Rating\", \"Current Ver\", \"Android Ver\"], inplace= True)\n"
      ],
      "metadata": {
        "id": "z33VT88mCtlp"
      },
      "execution_count": null,
      "outputs": []
    },
    {
      "cell_type": "code",
      "source": [
        "df_1.isnull().sum()"
      ],
      "metadata": {
        "id": "C8RwFDd_F__B"
      },
      "execution_count": null,
      "outputs": []
    },
    {
      "cell_type": "code",
      "source": [
        "df_1.boxplot()"
      ],
      "metadata": {
        "id": "hyrycXMj_mkC"
      },
      "execution_count": null,
      "outputs": []
    },
    {
      "cell_type": "markdown",
      "source": [
        "From Box plot we can observe that 4.3 median of Rating Majority Consumer gave 4.3 Rating\n"
      ],
      "metadata": {
        "id": "DnzsUUE4E3wD"
      }
    },
    {
      "cell_type": "code",
      "source": [
        "#Fill Null Value\n",
        "#Calculate the median of the 'Rating' column\n",
        "\n",
        "rating_median = df_1['Rating'].median()\n",
        "\n",
        "df_1['Rating'].fillna(rating_median, inplace=True)\n",
        "\n",
        "df_1.isnull().sum()"
      ],
      "metadata": {
        "id": "SKTTkM-NDHhn"
      },
      "execution_count": null,
      "outputs": []
    },
    {
      "cell_type": "code",
      "source": [
        "# Null Value in User Review\n",
        "\n",
        "df_2.isnull().sum()"
      ],
      "metadata": {
        "id": "3q5wnI3om9sJ"
      },
      "execution_count": null,
      "outputs": []
    },
    {
      "cell_type": "code",
      "source": [
        "df_2=df_2.dropna()"
      ],
      "metadata": {
        "id": "F7yzS9UtJaZh"
      },
      "execution_count": null,
      "outputs": []
    },
    {
      "cell_type": "code",
      "source": [
        "# Droping duplicates value in Play Store Data\n",
        "df_1= df_1.drop_duplicates()\n"
      ],
      "metadata": {
        "id": "NCNotgpaHRPH"
      },
      "execution_count": null,
      "outputs": []
    },
    {
      "cell_type": "code",
      "source": [
        "# Checking Duplicates Value After Droping\n",
        "df_1.duplicated().sum()\n"
      ],
      "metadata": {
        "id": "X1-88kZ3HUhn"
      },
      "execution_count": null,
      "outputs": []
    },
    {
      "cell_type": "code",
      "source": [
        "# Droping duplicates value in Reviews Data\n",
        "df_2=df_2.drop_duplicates()"
      ],
      "metadata": {
        "id": "FXwI0vGwIb-y"
      },
      "execution_count": null,
      "outputs": []
    },
    {
      "cell_type": "code",
      "source": [
        "df_2.duplicated().sum()"
      ],
      "metadata": {
        "id": "BpEtfwhrKlTZ"
      },
      "execution_count": null,
      "outputs": []
    },
    {
      "cell_type": "code",
      "source": [
        "# Checking row & Columns of Play store Dataset after removing dataset\n",
        "print('Row & Columns of Play Store Dataset is:',df_1.shape)\n",
        "print('Row & Columns of User Dataset is:',df_2.shape)"
      ],
      "metadata": {
        "id": "Lxb4n-V8Kr9h"
      },
      "execution_count": null,
      "outputs": []
    },
    {
      "cell_type": "markdown",
      "source": [
        "### What did you know about your dataset?"
      ],
      "metadata": {
        "id": "H0kj-8xxnORC"
      }
    },
    {
      "cell_type": "markdown",
      "source": [
        "In conducting the Play Store app analysis, my focus encompassed a thorough comprehension of the dataset's rich information. This extensive dataset cataloged diverse mobile applications available on the platform, offering a broad temporal perspective that allowed me to discern evolving trends within the app ecosystem across different time frames.\n",
        "\n",
        "The dataset comprised pivotal variables, including App Name, Category spanning genres like Games, Business, Health, Rating denoting user evaluations on a 5-point scale, Reviews quantifying user feedback, Installs indicating app download volumes, Price in dollars, Content Rating for various audience groups, Genre for detailed app categorization, and Last Updated denoting the most recent app update.\n",
        "\n",
        "My analysis aimed at several primary objectives: delineating factors influencing app ratings and download metrics, uncovering correlations between app categories and user reviews, and deriving insights into pricing strategies adopted by top-rated apps.\n",
        "\n",
        "Leveraging prior knowledge within the mobile app industry, I recognized the profound impact of user ratings, reviews, and app categorization on an app's trajectory to success. This pre-existing insight served as the cornerstone for formulating pertinent research inquiries, guiding my analytical approach throughout the project.\n"
      ],
      "metadata": {
        "id": "gfoNAAC-nUe_"
      }
    },
    {
      "cell_type": "markdown",
      "source": [
        "## ***2. Understanding Your Variables***"
      ],
      "metadata": {
        "id": "nA9Y7ga8ng1Z"
      }
    },
    {
      "cell_type": "code",
      "source": [
        "# Dataset Columns\n",
        "\n",
        "df_1.columns    # For df_1 (Play Store Data)\n"
      ],
      "metadata": {
        "id": "j7xfkqrt5Ag5"
      },
      "execution_count": null,
      "outputs": []
    },
    {
      "cell_type": "code",
      "source": [
        "df_2.columns      # For df_2 (User Reviews)"
      ],
      "metadata": {
        "id": "Kx1PKOabSkUs"
      },
      "execution_count": null,
      "outputs": []
    },
    {
      "cell_type": "code",
      "source": [
        "# Dataset Describe\n",
        "\n",
        "df_1.describe()     # For df_1 (Play Store Data)\n"
      ],
      "metadata": {
        "id": "DnOaZdaE5Q5t"
      },
      "execution_count": null,
      "outputs": []
    },
    {
      "cell_type": "code",
      "source": [
        "df_2.describe()       # For df_2 (User Reviews)"
      ],
      "metadata": {
        "id": "OkcBgqFdTN4S"
      },
      "execution_count": null,
      "outputs": []
    },
    {
      "cell_type": "markdown",
      "source": [
        "### Variables Description"
      ],
      "metadata": {
        "id": "PBTbrJXOngz2"
      }
    },
    {
      "cell_type": "markdown",
      "source": [
        "\n",
        "**App Name:** The specific name of the mobile application as listed on the Play Store.\n",
        "\n",
        "**Category:** The broader classification or genre to which the app belongs, encompassing diverse categories like Games, Business, Health & Fitness, etc.\n",
        "\n",
        "**Rating:** User-assigned evaluation of the app, typically on a scale ranging from 1 to 5 stars.\n",
        "\n",
        "**Reviews:** The total count of user reviews and ratings received by the app.\n",
        "\n",
        "**Installs:** An estimated figure denoting the number of times the app has been downloaded and installed by users.\n",
        "\n",
        "**Price:** The monetary value assigned to the app if it is not offered for free, typically displayed in the currency relevant to the Play Store's country.\n",
        "\n",
        "**Content Rating:** A classification system applied to the app indicating the appropriate audience group for the content, such as Everyone, Teen, or Mature.\n",
        "\n",
        "**Genre:** A more detailed and nuanced categorization beyond the main category, providing specific descriptors like Action, Puzzle, etc.\n",
        "\n",
        "**Last Updated:** The date representing the most recent update made to the app on the Play Store.\n",
        "\n",
        "**Size:** The digital footprint of the app in terms of storage space, commonly measured in megabytes (MB) or gigabytes (GB), guiding users with device storage considerations.\n",
        "\n",
        "**Current Version:** The specific version number of the app currently available on the Play Store.\n",
        "\n",
        "**Android Version:** The minimum version of the Android operating system required to run the app."
      ],
      "metadata": {
        "id": "aJV4KIxSnxay"
      }
    },
    {
      "cell_type": "markdown",
      "source": [
        "### Check Unique Values for each variable."
      ],
      "metadata": {
        "id": "u3PMJOP6ngxN"
      }
    },
    {
      "cell_type": "code",
      "source": [
        "# Check Unique Values for each variable."
      ],
      "metadata": {
        "id": "zms12Yq5n-jE"
      },
      "execution_count": null,
      "outputs": []
    },
    {
      "cell_type": "code",
      "source": [
        "df_1['Type'].unique()       #Unique values in Type"
      ],
      "metadata": {
        "id": "HJqSV_fGWlKG"
      },
      "execution_count": null,
      "outputs": []
    },
    {
      "cell_type": "code",
      "source": [
        "\n",
        "df_1['Installs'].unique()        #Unique values in Install\n"
      ],
      "metadata": {
        "id": "Qa14yfbLVABB"
      },
      "execution_count": null,
      "outputs": []
    },
    {
      "cell_type": "code",
      "source": [
        "df_1['Size'].unique()      #Unique values in Size"
      ],
      "metadata": {
        "id": "1AVFytfOWnkU"
      },
      "execution_count": null,
      "outputs": []
    },
    {
      "cell_type": "code",
      "source": [
        "df_1['Category'].unique()        #Unique values in Category"
      ],
      "metadata": {
        "id": "ZLBy80oKWs0S"
      },
      "execution_count": null,
      "outputs": []
    },
    {
      "cell_type": "code",
      "source": [
        "df_1['Price'].unique()         #Unique values in Price"
      ],
      "metadata": {
        "id": "IQBdnVBVW1bW"
      },
      "execution_count": null,
      "outputs": []
    },
    {
      "cell_type": "code",
      "source": [
        "string_columns_df1 = df_1.select_dtypes(include='object')  # Selecting string columns\n",
        "for column in string_columns_df1.columns:\n",
        "    unusual_values = df_1[column].loc[df_1[column].str.contains(r'[@#%?+&]', regex=True, na=False)]\n",
        "    if not unusual_values.empty:\n",
        "        print(f\"Column '{column}' has unusual characters:\")\n",
        "        print('\\n')\n",
        "        print(unusual_values)\n",
        "        print('\\n')"
      ],
      "metadata": {
        "id": "wr1tos22XkNB"
      },
      "execution_count": null,
      "outputs": []
    },
    {
      "cell_type": "code",
      "source": [
        "# we are checking here some wrong entries like #,@,%,?,+,& in string or in integer type coloumn that we are unable to find during null value detection.\n",
        "for num,col in enumerate(df_1.columns,1):\n",
        "    print('\\n')\n",
        "    print(num,')\\n','{} : {}'.format(col,df_1[col].unique().tolist()))"
      ],
      "metadata": {
        "id": "__ZMLD9nbVRd"
      },
      "execution_count": null,
      "outputs": []
    },
    {
      "cell_type": "code",
      "source": [
        "# Replacing $ symbol with space and convering into float data type\n",
        "df_1['Price']=df_1['Price'].apply((lambda x:str(x).replace('$','') if'$'in str(x) else str(x)))\n",
        "df_1['Price']=df_1['Price'].apply((lambda x:float(x)))\n",
        "df_1['Price'].unique()"
      ],
      "metadata": {
        "id": "l0d3DTEuaxED"
      },
      "execution_count": null,
      "outputs": []
    },
    {
      "cell_type": "markdown",
      "source": [
        "## 3. ***Data Wrangling***"
      ],
      "metadata": {
        "id": "dauF4eBmngu3"
      }
    },
    {
      "cell_type": "markdown",
      "source": [
        "### Data Wrangling Code"
      ],
      "metadata": {
        "id": "bKJF3rekwFvQ"
      }
    },
    {
      "cell_type": "markdown",
      "source": [
        "### What all manipulations have you done and insights you found?\n"
      ],
      "metadata": {
        "id": "AkN1pEE3oiyV"
      }
    },
    {
      "cell_type": "code",
      "source": [
        "# Write your code to make your dataset analysis ready."
      ],
      "metadata": {
        "id": "wk-9a2fpoLcV"
      },
      "execution_count": null,
      "outputs": []
    },
    {
      "cell_type": "code",
      "source": [
        "# Replacing all + and , with space and converting into float data type\n",
        "df_1['Installs']=df_1['Installs'].apply(lambda x:str(x).replace('+','')if '+' in str(x) else str(x))\n",
        "df_1['Installs']=df_1['Installs'].apply(lambda x:str(x).replace(',','')if ','in str(x)else str(x))\n",
        "df_1['Installs']=df_1['Installs'].apply(lambda x:float(x))"
      ],
      "metadata": {
        "id": "UUa9MA7Zmijo"
      },
      "execution_count": null,
      "outputs": []
    },
    {
      "cell_type": "code",
      "source": [
        "df_1['Installs'].unique()"
      ],
      "metadata": {
        "id": "t_TV70sVm_P7"
      },
      "execution_count": null,
      "outputs": []
    },
    {
      "cell_type": "code",
      "source": [
        "df_1['Last Updated'].value_counts().sort_values(ascending=False)"
      ],
      "metadata": {
        "id": "bW_qgvwVmt2a"
      },
      "execution_count": null,
      "outputs": []
    },
    {
      "cell_type": "code",
      "source": [
        "df_1['Last Updated'].value_counts().sort_values(ascending=False)"
      ],
      "metadata": {
        "id": "miXXSlvvnQz7"
      },
      "execution_count": null,
      "outputs": []
    },
    {
      "cell_type": "code",
      "source": [
        "df_1['Android Ver'].value_counts().sort_values(ascending=False)"
      ],
      "metadata": {
        "id": "5oy48wXrnTFX"
      },
      "execution_count": null,
      "outputs": []
    },
    {
      "cell_type": "code",
      "source": [
        "df_1['Android Ver'] = df_1['Android Ver'].str.replace(' and up', '')"
      ],
      "metadata": {
        "id": "r9MonUw4nbKW"
      },
      "execution_count": null,
      "outputs": []
    },
    {
      "cell_type": "code",
      "source": [
        "df_1['Android Ver']=df_1['Android Ver'].replace('Varies with device','4.1')"
      ],
      "metadata": {
        "id": "513Yv6f3oFd1"
      },
      "execution_count": null,
      "outputs": []
    },
    {
      "cell_type": "code",
      "source": [
        "df_1['Android Ver'].unique()"
      ],
      "metadata": {
        "id": "O0N-0iyuoLbY"
      },
      "execution_count": null,
      "outputs": []
    },
    {
      "cell_type": "code",
      "source": [
        "df_1['Current Ver'].value_counts().sort_values(ascending=False)"
      ],
      "metadata": {
        "id": "lA3mvWs_oRYY"
      },
      "execution_count": null,
      "outputs": []
    },
    {
      "cell_type": "code",
      "source": [
        "df_1['Current Ver']=df_1['Current Ver'].replace('Varies with device',1.0)"
      ],
      "metadata": {
        "id": "K-MMHlRMoRG3"
      },
      "execution_count": null,
      "outputs": []
    },
    {
      "cell_type": "code",
      "source": [
        "df_1['Last Updated'].unique()"
      ],
      "metadata": {
        "id": "YFfkikwMoQ0m"
      },
      "execution_count": null,
      "outputs": []
    },
    {
      "cell_type": "markdown",
      "source": [
        "## ***4. Data Vizualization, Storytelling & Experimenting with charts : Understand the relationships between variables***"
      ],
      "metadata": {
        "id": "GF8Ens_Soomf"
      }
    },
    {
      "cell_type": "markdown",
      "source": [
        "#### **Chart - 1  To visualize total installations according to content rating and the count of apps per content rating.**"
      ],
      "metadata": {
        "id": "0wOQAZs5pc--"
      }
    },
    {
      "cell_type": "code",
      "source": [
        "# Chart - 1 visualization code\n",
        "\n",
        "# Total Apps according to Content Rating Count.\n",
        "content_rating_counts = df_1['Content Rating'].value_counts()\n",
        "content_rating_counts\n"
      ],
      "metadata": {
        "id": "7v_ESjsspbW7"
      },
      "execution_count": null,
      "outputs": []
    },
    {
      "cell_type": "code",
      "source": [
        "#Total Installation According to Content Rating Wise.\n",
        "content_apps_intallations=df_1.groupby('Content Rating')['Installs'].sum().astype('int64')\n",
        "content_apps_intallations.sort_values(ascending=False)"
      ],
      "metadata": {
        "id": "rMDwgbM80yYS"
      },
      "execution_count": null,
      "outputs": []
    },
    {
      "cell_type": "code",
      "source": [
        "#Chart Visualization:\n",
        "\n",
        "fig=plt.figure(figsize=(20,4))\n",
        "plt.subplot(1, 2, 1)\n",
        "\n",
        "# Total Apps according to Content Rating Count\n",
        "plt.barh(content_rating_counts.index, content_rating_counts.values, color='skyblue')\n",
        "plt.title(\"Content Ratings Distribution\")\n",
        "plt.xlabel(\"Number of Apps\")\n",
        "plt.ylabel(\"Content Rating\")\n",
        "\n",
        "\n",
        "#Total Installation According to Content Rating Wise\n",
        "plt.subplot(1,2,2)\n",
        "plt.barh(content_apps_intallations.index, content_apps_intallations.values, color='skyblue')\n",
        "plt.title(\"Number of installation acc. to content\")\n",
        "plt.xlabel(\"Number of Apps\")\n",
        "plt.ylabel(\"Installation\")\n",
        "plt.show()"
      ],
      "metadata": {
        "id": "UpulpWZz0sP1"
      },
      "execution_count": null,
      "outputs": []
    },
    {
      "cell_type": "markdown",
      "source": [
        "##### 1. Why did you pick the specific chart?"
      ],
      "metadata": {
        "id": "K5QZ13OEpz2H"
      }
    },
    {
      "cell_type": "markdown",
      "source": [
        "To observe the total Installations According to Content Rating Wise & Total Apps according to Content Rating Count."
      ],
      "metadata": {
        "id": "XESiWehPqBRc"
      }
    },
    {
      "cell_type": "markdown",
      "source": [
        "##### 2. What is/are the insight(s) found from the chart?"
      ],
      "metadata": {
        "id": "lQ7QKXXCp7Bj"
      }
    },
    {
      "cell_type": "markdown",
      "source": [
        "The number of apps available for everyone is higher compared to apps rated for Everyone 10+. However, despite fewer apps, Everyone 10+ rated apps have higher installations than apps with a Mature 17+ rating, indicating better engagement in the former category despite a smaller app count."
      ],
      "metadata": {
        "id": "C_j1G7yiqdRP"
      }
    },
    {
      "cell_type": "markdown",
      "source": [
        "##### 3. Will the gained insights help creating a positive business impact?\n",
        "Are there any insights that lead to negative growth? Justify with specific reason."
      ],
      "metadata": {
        "id": "448CDAPjqfQr"
      }
    },
    {
      "cell_type": "markdown",
      "source": [
        "Yes, The insights from the chart show positive impacts for business. The distribution indicates higher content ratings for everyone, suggesting no negative growth trends. The larger presence in the \"everyone\" category signifies a positive influence, likely broadening the app's appeal and user reach"
      ],
      "metadata": {
        "id": "3cspy4FjqxJW"
      }
    },
    {
      "cell_type": "markdown",
      "source": [
        "#### **Chart - 2 To determine the top apps category count and top category apps installations from the dataset.**"
      ],
      "metadata": {
        "id": "KSlN3yHqYklG"
      }
    },
    {
      "cell_type": "code",
      "source": [
        "# Chart - 2 visualization code\n",
        "\n",
        "# Top apps Category count\n",
        "top10_catg=df_1['Category'].value_counts().sort_values(ascending=False).head(10)\n",
        "top10_catg"
      ],
      "metadata": {
        "id": "R4YgtaqtYklH"
      },
      "execution_count": null,
      "outputs": []
    },
    {
      "cell_type": "code",
      "source": [
        "# Top Category apps installs\n",
        "catg_apps_ins=df_1.groupby('Category')['Installs'].sum().sort_values(ascending=False).astype('int64').head(10)\n",
        "catg_apps_ins"
      ],
      "metadata": {
        "id": "PSwqg-nQ3bqH"
      },
      "execution_count": null,
      "outputs": []
    },
    {
      "cell_type": "code",
      "source": [
        "#Chart Visualization:\n",
        "\n",
        "# Plotting top app categories by count\n",
        "plt.figure(figsize=(10, 6))\n",
        "top10_catg.plot(kind='bar', color='skyblue')\n",
        "plt.title('Top 10 App Categories by Count')\n",
        "plt.xlabel('Category')\n",
        "plt.ylabel('Count')\n",
        "plt.xticks(rotation=45)\n",
        "plt.grid(axis='y')\n",
        "plt.tight_layout()\n",
        "plt.show()\n",
        "\n",
        "\n",
        "# Plotting top categories by total installs\n",
        "plt.figure(figsize=(10, 6))\n",
        "catg_apps_ins.plot(kind='bar', color='lightgreen')\n",
        "plt.title('Top 10 App Categories by Total Installs')\n",
        "plt.xlabel('Category')\n",
        "plt.ylabel('Total Installs')\n",
        "plt.xticks(rotation=45)\n",
        "plt.grid(axis='y')\n",
        "plt.tight_layout()\n",
        "plt.show()"
      ],
      "metadata": {
        "id": "JL1OI94c36tp"
      },
      "execution_count": null,
      "outputs": []
    },
    {
      "cell_type": "markdown",
      "source": [
        "##### 1. Why did you pick the specific chart?"
      ],
      "metadata": {
        "id": "t6dVpIINYklI"
      }
    },
    {
      "cell_type": "markdown",
      "source": [
        "To find the top apps Category count & top Category apps installs."
      ],
      "metadata": {
        "id": "5aaW0BYyYklI"
      }
    },
    {
      "cell_type": "markdown",
      "source": [
        "##### 2. What is/are the insight(s) found from the chart?"
      ],
      "metadata": {
        "id": "ijmpgYnKYklI"
      }
    },
    {
      "cell_type": "markdown",
      "source": [
        "1.Family category has the highest number of apps, with games following closely as the second-highest category in terms of app count.\n",
        "\n",
        "2.Game apps rank first in terms of installations, while communication apps hold the second position. Family apps rank sixth in installations among the categories.\n",
        "\n",
        "\n",
        "\n",
        "\n",
        "\n",
        "\n"
      ],
      "metadata": {
        "id": "PSx9atu2YklI"
      }
    },
    {
      "cell_type": "markdown",
      "source": [
        "##### 3. Will the gained insights help creating a positive business impact?\n",
        "Are there any insights that lead to negative growth? Justify with specific reason."
      ],
      "metadata": {
        "id": "-JiQyfWJYklI"
      }
    },
    {
      "cell_type": "markdown",
      "source": [
        "Yes, The insights show positive potential for business impact as the Family category exhibits the highest installation count. This suggests an opportunity for developers to focus on creating more apps within this category, indicating no negative growth trends."
      ],
      "metadata": {
        "id": "BcBbebzrYklV"
      }
    },
    {
      "cell_type": "markdown",
      "source": [
        "#### **Chart - 3 To determine the number of installations in paid and free apps.**"
      ],
      "metadata": {
        "id": "EM7whBJCYoAo"
      }
    },
    {
      "cell_type": "code",
      "source": [
        "# Chart - 3 visualization code\n",
        "\n",
        "# Total number of apps.\n",
        "T_Apps_count=df_1['App'].count()\n",
        "T_Apps_count\n"
      ],
      "metadata": {
        "id": "t6GMdE67YoAp"
      },
      "execution_count": null,
      "outputs": []
    },
    {
      "cell_type": "code",
      "source": [
        "# Number of free and Paid apps\n",
        "N_apps_Count=df_1.groupby('Type')['App'].count()\n",
        "N_apps_Count"
      ],
      "metadata": {
        "id": "7BXLiN3j7Evr"
      },
      "execution_count": null,
      "outputs": []
    },
    {
      "cell_type": "code",
      "source": [
        "#Total number of Installation in paid & Free apps\n",
        "T_num_apps=df_1.groupby('Type')['Installs'].sum().reset_index()\n",
        "T_num_apps"
      ],
      "metadata": {
        "id": "q7il6RM27EeB"
      },
      "execution_count": null,
      "outputs": []
    },
    {
      "cell_type": "code",
      "source": [
        "#convert exponenials to integer number\n",
        "T_num_apps['Installs'] =T_num_apps['Installs'].astype('int64')\n",
        "T_num_apps"
      ],
      "metadata": {
        "id": "WDPh3nIJ7ENv"
      },
      "execution_count": null,
      "outputs": []
    },
    {
      "cell_type": "code",
      "source": [
        "#Chart Visualization:\n",
        "\n",
        "fig=plt.figure(figsize=(14,4))\n",
        "plt.subplot(1, 2, 1)\n",
        "\n",
        "# percentage of free and Paid apps\n",
        "N_apps_Count.plot(kind='pie', colors=['Blue', 'Red'], autopct='%1.1f%%',startangle =180, textprops={'fontsize': 14},explode = (0, 0.2))\n",
        "plt.title('Total Percentage of Free and Paid Apps',fontsize=10,fontweight=\"bold\")\n",
        "plt.ylabel('')\n",
        "plt.legend()\n",
        "\n",
        "#Total number of Installation in paid & Free apps\n",
        "plt.subplot(1, 2, 2)\n",
        "sns.barplot(x='Type',y='Installs', data=T_num_apps, palette=\"Set2\")\n",
        "plt.title('Total number of apps',fontsize=10,fontweight=\"bold\")\n",
        "plt.ylabel('Count')\n",
        "\n",
        "\n",
        "plt.show()"
      ],
      "metadata": {
        "id": "ZAT9hztP7Tr3"
      },
      "execution_count": null,
      "outputs": []
    },
    {
      "cell_type": "markdown",
      "source": [
        "##### 1. Why did you pick the specific chart?"
      ],
      "metadata": {
        "id": "fge-S5ZAYoAp"
      }
    },
    {
      "cell_type": "markdown",
      "source": [
        "To understand the number of installations in paid and free apps."
      ],
      "metadata": {
        "id": "5dBItgRVYoAp"
      }
    },
    {
      "cell_type": "markdown",
      "source": [
        "##### 2. What is/are the insight(s) found from the chart?"
      ],
      "metadata": {
        "id": "85gYPyotYoAp"
      }
    },
    {
      "cell_type": "markdown",
      "source": [
        "\n",
        "The dataset contains a total of 10,346 apps, with 9,584 being free and 762 being paid. This means that about 92.6% of apps in the dataset are free, while 7.4% are paid. Despite having fewer paid apps, the total installations for free apps significantly surpass those of paid apps, making the difference difficult to visualize in a bar graph due to the lower count of paid apps."
      ],
      "metadata": {
        "id": "4jstXR6OYoAp"
      }
    },
    {
      "cell_type": "markdown",
      "source": [
        "##### 3. Will the gained insights help creating a positive business impact?\n",
        "Are there any insights that lead to negative growth? Justify with specific reason."
      ],
      "metadata": {
        "id": "RoGjAbkUYoAp"
      }
    },
    {
      "cell_type": "markdown",
      "source": [
        "Yes, The insights from the charts show a higher count of free apps compared to paid ones, suggesting a positive impact as free apps tend to dominate in quantity, potentially increasing user reach. This observation doesn't suggest any negative impact; instead, it indicates a favorable scenario for business due to the higher count of free apps."
      ],
      "metadata": {
        "id": "zfJ8IqMcYoAp"
      }
    },
    {
      "cell_type": "markdown",
      "source": [
        "#### **Chart - 4 top apps based on the highest number of installations and to identify the top apps within each category.**\n"
      ],
      "metadata": {
        "id": "4Of9eVA-YrdM"
      }
    },
    {
      "cell_type": "code",
      "source": [
        "# Chart - 4 visualization code\n",
        "\n",
        "#Top Apps Install\n",
        "Top_app=df_1.groupby('App')['Installs'].sum().sort_values(ascending=False).head(10).astype('int64')\n",
        "Top_app"
      ],
      "metadata": {
        "id": "irlUoxc8YrdO"
      },
      "execution_count": null,
      "outputs": []
    },
    {
      "cell_type": "code",
      "source": [
        "\n",
        "# Top Apps category Wise\n",
        "\n",
        "top_catagery_apps=df_1.groupby(['Category','App'])['Installs'].sum().sort_values(ascending=False).head(10).astype('int64')\n",
        "top_catagery_apps"
      ],
      "metadata": {
        "id": "fGtvTmH4yMRy"
      },
      "execution_count": null,
      "outputs": []
    },
    {
      "cell_type": "code",
      "source": [
        "#Chart Visualization:\n",
        "\n",
        "fig=plt.figure(figsize=(18,4))\n",
        "plt.subplot(1, 2, 1)\n",
        "\n",
        "#Top Apps Install\n",
        "Top_app.plot(kind='pie', startangle=280, pctdistance=0.85,autopct='%1.1f%%')\n",
        "plt.title('Top apps Install',fontsize=15,fontweight='bold')\n",
        "plt.ylabel('')\n",
        "\n",
        "centre_circle = plt.Circle((0,0),0.70,fc='white')\n",
        "fig = plt.gcf()\n",
        "fig.gca().add_artist(centre_circle)\n",
        "fig.patch.set_facecolor('#95a3a6')\n",
        "\n",
        "#Top Apps category Wise\n",
        "plt.subplot(1, 2, 2)\n",
        "top_catagery_apps.plot(kind='pie', startangle=280, pctdistance=0.85,autopct='%1.1f%%')\n",
        "plt.title('Top Category apps Install',fontsize=15,fontweight='bold')\n",
        "plt.ylabel('')\n",
        "\n",
        "centre_circle = plt.Circle((0,0),0.70,fc='white')\n",
        "fig = plt.gcf()\n",
        "fig.gca().add_artist(centre_circle)\n",
        "fig.patch.set_facecolor('#95a3a6')\n",
        "\n",
        "plt.show()"
      ],
      "metadata": {
        "id": "tMe1H9GwyLzB"
      },
      "execution_count": null,
      "outputs": []
    },
    {
      "cell_type": "markdown",
      "source": [
        "##### 1. Why did you pick the specific chart?"
      ],
      "metadata": {
        "id": "iky9q4vBYrdO"
      }
    },
    {
      "cell_type": "markdown",
      "source": [
        "To identify the top app installations, you'll look for the apps with the highest number of installations. For category-wise top apps, you'll determine the most popular or highest-installed apps within each app category."
      ],
      "metadata": {
        "id": "aJRCwT6DYrdO"
      }
    },
    {
      "cell_type": "markdown",
      "source": [
        "##### 2. What is/are the insight(s) found from the chart?"
      ],
      "metadata": {
        "id": "F6T5p64dYrdO"
      }
    },
    {
      "cell_type": "markdown",
      "source": [
        "Among the top 10 installed apps, three gaming apps - Subway Surfer, Candy Crush Saga, and Temple Run - rank prominently.\n",
        "\n",
        "Within the top 10 installed categories, two gaming apps hold positions, suggesting gaming apps' popularity.\n",
        "\n",
        "Gaming apps stand out with the highest installations among Play Store categories."
      ],
      "metadata": {
        "id": "Xx8WAJvtYrdO"
      }
    },
    {
      "cell_type": "markdown",
      "source": [
        "##### 3. Will the gained insights help creating a positive business impact?\n",
        "Are there any insights that lead to negative growth? Justify with specific reason."
      ],
      "metadata": {
        "id": "y-Ehk30pYrdP"
      }
    },
    {
      "cell_type": "markdown",
      "source": [
        "Yes, the insights from the charts suggest a positive impact on business. Among the top installations, game apps like Subway Surfer, Candy Crush Saga, and Temple Run stand out. Additionally, within the top categories by installations, gaming apps hold a prominent position. This highlights the significant popularity of gaming apps, indicating a positive trend rather than a negative impact."
      ],
      "metadata": {
        "id": "jLNxxz7MYrdP"
      }
    },
    {
      "cell_type": "markdown",
      "source": [
        "#### **Chart - 5 Analyzing the relationship between categories and ratings.**"
      ],
      "metadata": {
        "id": "bamQiAODYuh1"
      }
    },
    {
      "cell_type": "code",
      "source": [
        "# Chart - 5 visualization code\n",
        "\n",
        "plt.figure(figsize=(12, 6))\n",
        "sns.boxplot(x='Category', y='Rating', data=df_1)\n",
        "plt.xticks(rotation=90)\n",
        "plt.title('Category vs Rating')\n",
        "plt.xlabel('Category')\n",
        "plt.ylabel('Rating')\n",
        "plt.show()"
      ],
      "metadata": {
        "id": "TIJwrbroYuh3"
      },
      "execution_count": null,
      "outputs": []
    },
    {
      "cell_type": "markdown",
      "source": [
        "##### 1. Why did you pick the specific chart?"
      ],
      "metadata": {
        "id": "QHF8YVU7Yuh3"
      }
    },
    {
      "cell_type": "markdown",
      "source": [
        "Analyzing the relationship between categories and ratings often involves exploring how different app categories correlate with their respective ratings."
      ],
      "metadata": {
        "id": "dcxuIMRPYuh3"
      }
    },
    {
      "cell_type": "markdown",
      "source": [
        "##### 2. What is/are the insight(s) found from the chart?"
      ],
      "metadata": {
        "id": "GwzvFGzlYuh3"
      }
    },
    {
      "cell_type": "markdown",
      "source": [
        "\n",
        "The Family category dominates in app count, featuring ratings of 4.6, 4.5, 4.3, and 4.2. Meanwhile, Games, with ratings of 4.4 and 4.3, shows the highest-rated apps and higher installation rates, indicating increased consumer interest in apps with superior ratings."
      ],
      "metadata": {
        "id": "uyqkiB8YYuh3"
      }
    },
    {
      "cell_type": "markdown",
      "source": [
        "##### 3. Will the gained insights help creating a positive business impact?\n",
        "Are there any insights that lead to negative growth? Justify with specific reason."
      ],
      "metadata": {
        "id": "qYpmQ266Yuh3"
      }
    },
    {
      "cell_type": "markdown",
      "source": [
        "Yes, The insights obtained from content rating analysis foster positive business impact by guiding app development towards popular content categories. No identified insights pose a risk of negative growth, ensuring all gained perspectives contribute positively to business decisions without detrimental effects."
      ],
      "metadata": {
        "id": "_WtzZ_hCYuh4"
      }
    },
    {
      "cell_type": "markdown",
      "source": [
        "#### **Chart - 6 To explore the correlation between 'Installations', 'Reviews', 'Rating', and 'Price'.**"
      ],
      "metadata": {
        "id": "OH-pJp9IphqM"
      }
    },
    {
      "cell_type": "code",
      "source": [
        "# Chart - 6 visualization code\n",
        "\n",
        "# Selecting relevant columns for correlation analysis\n",
        "correlation_data = df_1[['Installs', 'Reviews', 'Rating', 'Price']]"
      ],
      "metadata": {
        "id": "kuRf4wtuphqN"
      },
      "execution_count": null,
      "outputs": []
    },
    {
      "cell_type": "code",
      "source": [
        "# Calculating the correlation matrix\n",
        "correlation_matrix = correlation_data.corr()\n"
      ],
      "metadata": {
        "id": "RJNASqnS45BH"
      },
      "execution_count": null,
      "outputs": []
    },
    {
      "cell_type": "code",
      "source": [
        "#Chart Visualization:\n",
        "\n",
        "# Plotting the heatmap\n",
        "plt.figure(figsize=(8, 6))\n",
        "heatmap = sns.heatmap(correlation_matrix, annot=True, cmap='coolwarm', fmt=\".2f\")\n",
        "plt.title('Correlation Heatmap between Installations, Reviews, Rating, and Price')\n",
        "plt.show()\n"
      ],
      "metadata": {
        "id": "z32k_RwE4o6u"
      },
      "execution_count": null,
      "outputs": []
    },
    {
      "cell_type": "markdown",
      "source": [
        "##### 1. Why did you pick the specific chart?"
      ],
      "metadata": {
        "id": "bbFf2-_FphqN"
      }
    },
    {
      "cell_type": "markdown",
      "source": [
        "\n",
        "To determine the correlation between variables in the dataset."
      ],
      "metadata": {
        "id": "loh7H2nzphqN"
      }
    },
    {
      "cell_type": "markdown",
      "source": [
        "##### 2. What is/are the insight(s) found from the chart?"
      ],
      "metadata": {
        "id": "_ouA3fa0phqN"
      }
    },
    {
      "cell_type": "markdown",
      "source": [
        "\n",
        "\n",
        "The observed factors significantly influencing app installations are the app reviews and ratings. These elements play a pivotal role in shaping user engagement and driving app installations in the market."
      ],
      "metadata": {
        "id": "VECbqPI7phqN"
      }
    },
    {
      "cell_type": "markdown",
      "source": [
        "##### 3. Will the gained insights help creating a positive business impact?\n",
        "Are there any insights that lead to negative growth? Justify with specific reason."
      ],
      "metadata": {
        "id": "Seke61FWphqN"
      }
    },
    {
      "cell_type": "markdown",
      "source": [
        "Yes, The insights gathered from the charts indicate opportunities for positive business impact, guiding developers towards content ratings with higher installations. No negative insights surfaced that could adversely affect business decisions or growth strategies, ensuring a focused approach without overlooking potential user segments."
      ],
      "metadata": {
        "id": "DW4_bGpfphqN"
      }
    },
    {
      "cell_type": "markdown",
      "source": [
        "#### **Chart - 7 To visualize the distribution of rating.**"
      ],
      "metadata": {
        "id": "PIIx-8_IphqN"
      }
    },
    {
      "cell_type": "code",
      "source": [
        "# Chart - 7 visualization code\n",
        "\n",
        "plt.figure(figsize=(8, 6))\n",
        "plt.hist(df_1['Rating'], bins=20, color='skyblue', edgecolor='black')  # Adjust the number of bins as needed\n",
        "plt.xlabel('Ratings')\n",
        "plt.ylabel('Frequency')\n",
        "plt.title('Distribution of Ratings')\n",
        "plt.grid(axis='y', alpha=0.5)\n",
        "plt.show()"
      ],
      "metadata": {
        "id": "lqAIGUfyphqO"
      },
      "execution_count": null,
      "outputs": []
    },
    {
      "cell_type": "markdown",
      "source": [
        "##### 1. Why did you pick the specific chart?"
      ],
      "metadata": {
        "id": "t27r6nlMphqO"
      }
    },
    {
      "cell_type": "markdown",
      "source": [
        "\n",
        "Plotting a histogram with KDE for the 'Rating' column offers a visual depiction of its distribution, providing insights into the density and spread of app ratings."
      ],
      "metadata": {
        "id": "iv6ro40sphqO"
      }
    },
    {
      "cell_type": "markdown",
      "source": [
        "##### 2. What is/are the insight(s) found from the chart?"
      ],
      "metadata": {
        "id": "r2jJGEOYphqO"
      }
    },
    {
      "cell_type": "markdown",
      "source": [
        "The prevalence of app ratings between 4.0 and 4.5 signifies a positive trend for business, indicating a substantial portion of apps garnering favorable user feedback within a promising rating range. This prevalence suggests a favorable user sentiment and potential for sustained user engagement, potentially contributing to business success in the app market."
      ],
      "metadata": {
        "id": "Po6ZPi4hphqO"
      }
    },
    {
      "cell_type": "markdown",
      "source": [
        "##### 3. Will the gained insights help creating a positive business impact?\n",
        "Are there any insights that lead to negative growth? Justify with specific reason."
      ],
      "metadata": {
        "id": "b0JNsNcRphqO"
      }
    },
    {
      "cell_type": "markdown",
      "source": [
        "Yes,\n",
        "The insights derived from high-rated content categories promise a positive business impact, guiding resource allocation for engaging apps. However, a prevalence of lower-rated apps may adversely affect business success by potentially limiting user engagement and market reach."
      ],
      "metadata": {
        "id": "xvSq8iUTphqO"
      }
    },
    {
      "cell_type": "markdown",
      "source": [
        "## **5. Solution to Business Objective**"
      ],
      "metadata": {
        "id": "JcMwzZxoAimU"
      }
    },
    {
      "cell_type": "markdown",
      "source": [
        "#### What do you suggest the client to achieve Business Objective ?\n",
        "Explain Briefly."
      ],
      "metadata": {
        "id": "8G2x9gOozGDZ"
      }
    },
    {
      "cell_type": "markdown",
      "source": [
        "\n",
        "### **Based on the project observations:**\n",
        "\n",
        "**App Distribution:** 92.6% are free, 7.4% are paid, with higher installations for free apps.\n",
        "\n",
        "**Content Ratings:** Majority belong to 'Everyone' category; 'Everyone 10+' apps, despite fewer in count, gather higher installations than 'Mature 17+'.\n",
        "\n",
        "**Category Insights:** Family and gaming categories dominate in app count; gaming apps lead in installations.\n",
        "\n",
        "**Top Installations:** Gaming apps dominate the top installations, showcasing Subway Surfer, Candy Crush Saga, and Temple Run.\n",
        "\n",
        "**Ratings:** Most apps hover around a 4.3 rating; games tend to have higher ratings and installations.\n",
        "\n",
        "**Consumer Engagement:** Higher ratings correlate with increased consumer interest and app downloads.\n",
        "\n",
        "**Sentiment Analysis:** Facebook shows fewer installations but positive sentiment polarity in reviews.\n",
        "\n",
        "###**Client Recommendations:**\n",
        "\n",
        "**Decision-Making:** Leverage these insights for informed decisions in app development and marketing strategies.\n",
        "\n",
        "**Performance Review:** Use visualizations for performance reviews, goal tracking, and identifying underperforming areas.\n",
        "\n",
        "**Customer Experience:** Tailor marketing strategies based on ratings and sentiment to enhance customer experiences.\n",
        "\n",
        "**Anomaly Detection:** Utilize visualizations to swiftly identify anomalies or outliers for prompt intervention.\n"
      ],
      "metadata": {
        "id": "pASKb0qOza21"
      }
    },
    {
      "cell_type": "markdown",
      "source": [
        "# **Conclusion**"
      ],
      "metadata": {
        "id": "gCX9965dhzqZ"
      }
    },
    {
      "cell_type": "markdown",
      "source": [
        "\n",
        "In the dynamic realm of mobile applications, this Play Store app analysis delved deep into the ecosystem, offering invaluable insights for developers, marketers, and publishers. The prevalence of free apps suggests a strategic focus on capturing a larger user base. For paid apps, adherence to a 40MB size limit emerges as a crucial factor for success.\n",
        "\n",
        "Through meticulous data cleansing, preprocessing, and insightful visualizations, this analysis not only mitigated risks but also sparked innovative app-building ideas. It underscores the transformative power of data-driven strategies, steering businesses away from avoidable pitfalls and toward enhanced performance and user engagement.\n",
        "\n",
        "Data visualization emerges as a pivotal tool, enabling clients to harness insights for strategic decision-making, competitive edge, and overall performance improvement. It illuminates avenues for growth, aids in identifying challenges, and facilitates impactful communication within and beyond organizations.\n",
        "\n",
        "In summation, this project highlights the roadmap to app triumph within the Google Play Store, showcasing the transformative impact of data-driven analyses in the ever-evolving landscape of mobile applications."
      ],
      "metadata": {
        "id": "Fjb1IsQkh3yE"
      }
    },
    {
      "cell_type": "markdown",
      "source": [
        "### ***Hurrah! You have successfully completed your EDA Capstone Project !!!***"
      ],
      "metadata": {
        "id": "gIfDvo9L0UH2"
      }
    }
  ]
}